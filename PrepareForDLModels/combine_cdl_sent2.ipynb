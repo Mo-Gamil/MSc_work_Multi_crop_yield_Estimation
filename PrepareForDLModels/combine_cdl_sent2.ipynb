{
 "cells": [
  {
   "cell_type": "code",
   "execution_count": 1,
   "id": "5c3c75d8-7356-435f-afc0-ad2a2f9cd2d7",
   "metadata": {},
   "outputs": [],
   "source": [
    "import os\n",
    "import numpy as np\n",
    "import rasterio\n",
    "from rasterio.plot import show\n"
   ]
  },
  {
   "cell_type": "code",
   "execution_count": 2,
   "id": "40ffa5d5",
   "metadata": {},
   "outputs": [],
   "source": [
    "def normalize_cdl(cdl_image):\n",
    "    \"\"\"Normalize CDL pixel values to range [0, 1].\"\"\"\n",
    "    return cdl_image / 2.0\n",
    "\n",
    "def concatenate_and_save_images(images_folder, cdl_folder, new_images_folder):\n",
    "    \"\"\"Concatenate satellite images with CDL images and save them to a new folder.\"\"\"\n",
    "    if not os.path.exists(new_images_folder):\n",
    "        os.makedirs(new_images_folder)\n",
    "    \n",
    "    image_filenames = [f for f in os.listdir(images_folder) if f.endswith('.tif')]\n",
    "    \n",
    "    for filename in image_filenames:\n",
    "        # Read the satellite image\n",
    "        satellite_image_path = os.path.join(images_folder, filename)\n",
    "        with rasterio.open(satellite_image_path) as src_satellite:\n",
    "            satellite_image = src_satellite.read()\n",
    "            profile = src_satellite.profile\n",
    "        \n",
    "        # Read the CDL image\n",
    "        cdl_image_path = os.path.join(cdl_folder, filename)\n",
    "        with rasterio.open(cdl_image_path) as src_cdl:\n",
    "            cdl_image = src_cdl.read(1)  # Read the first (and only) band\n",
    "        \n",
    "        # Normalize the CDL image\n",
    "        normalized_cdl = normalize_cdl(cdl_image)\n",
    "        \n",
    "        # Ensure the CDL image has the same spatial dimensions as the satellite image\n",
    "        if satellite_image.shape[1:] != normalized_cdl.shape:\n",
    "            raise ValueError(f\"Size mismatch between satellite image and CDL image for {filename}\")\n",
    "        \n",
    "        # Add an extra dimension to the CDL image to concatenate\n",
    "        normalized_cdl = normalized_cdl[np.newaxis, ...]\n",
    "        \n",
    "        # Concatenate the CDL image with the satellite image\n",
    "        new_image = np.concatenate((satellite_image, normalized_cdl), axis=0)\n",
    "        \n",
    "        # Update the profile for the new image\n",
    "        profile.update(count=new_image.shape[0])\n",
    "        \n",
    "        # Save the new image\n",
    "        new_image_path = os.path.join(new_images_folder, filename)\n",
    "        with rasterio.open(new_image_path, 'w', **profile) as dst:\n",
    "            dst.write(new_image)\n"
   ]
  },
  {
   "cell_type": "code",
   "execution_count": 3,
   "id": "4a1d5774-98bd-432e-989e-531dfb587ba5",
   "metadata": {},
   "outputs": [],
   "source": [
    "\n",
    "img_train = r\"/home/jovyan/Thesis/Models_training/Full_Data/Full_correct_data/img_dir/train\"\n",
    "img_val = r\"/home/jovyan/Thesis/Models_training/Full_Data/Full_correct_data/img_dir/val\"\n",
    "img_test = r\"/home/jovyan/Thesis/Models_training/Full_Data/Full_correct_data/img_dir/test\"\n",
    "\n",
    "ann_train = r\"/home/jovyan/Thesis/Models_training/Full_Data/Full_correct_data/ann_dir/train\"\n",
    "ann_val = r\"/home/jovyan/Thesis/Models_training/Full_Data/Full_correct_data/ann_dir/val\"\n",
    "ann_test = r\"/home/jovyan/Thesis/Models_training/Full_Data/Full_correct_data/ann_dir/test\"\n",
    "\n",
    "crop_train = r\"/home/jovyan/Thesis/Models_training/Full_Data/Full_correct_data/ann_dir/train/normalized_train_yield.csv\"\n",
    "crop_val = r\"/home/jovyan/Thesis/Models_training/Full_Data/Full_correct_data/ann_dir/val/normalized_val_yield.csv\"\n",
    "crop_test = r\"/home/jovyan/Thesis/Models_training/Full_Data/Full_correct_data/ann_dir/test/normalized_test_yield.csv\"\n",
    "\n",
    "\n",
    "\n",
    "\n"
   ]
  },
  {
   "cell_type": "code",
   "execution_count": null,
   "id": "0d90ea10-1868-4bb4-842b-1075a8934216",
   "metadata": {},
   "outputs": [],
   "source": [
    "\n",
    "\n",
    "# Define the folder paths\n",
    "images_folder = r\"/home/jovyan/Thesis/Models_training/Full_Data/Full_correct_data/img_dir/test\"\n",
    "cdl_folder = r\"/home/jovyan/Thesis/Models_training/Full_Data/Full_correct_data/ann_dir/test\"\n",
    "new_images_folder =r\"/home/jovyan/Thesis/Models_training/Full_Data/Full_correct_data/combined_images/test\"\n",
    "\n",
    "# Run the function\n",
    "concatenate_and_save_images(images_folder, cdl_folder, new_images_folder)"
   ]
  },
  {
   "cell_type": "code",
   "execution_count": 3,
   "id": "ebf72a99-cfcc-431e-ba13-b0f39c21f04e",
   "metadata": {},
   "outputs": [],
   "source": [
    "\n",
    "\n",
    "# Define the folder paths\n",
    "images_folder = r\"/home/jovyan/Thesis/Models_training/Full_Data/Full_correct_data/img_dir/test2\"\n",
    "cdl_folder = r\"/home/jovyan/Thesis/Models_training/Full_Data/Full_correct_data/ann_dir/test2\"\n",
    "new_images_folder =r\"/home/jovyan/Thesis/Models_training/Full_Data/Full_correct_data/combined_images/test2\"\n",
    "\n",
    "# Run the function\n",
    "concatenate_and_save_images(images_folder, cdl_folder, new_images_folder)\n"
   ]
  },
  {
   "cell_type": "code",
   "execution_count": 7,
   "id": "cd328341-9c3f-4f03-b8c3-567bcde21a4d",
   "metadata": {},
   "outputs": [],
   "source": [
    "\n",
    "\n",
    "# Define the folder paths\n",
    "images_folder = r\"/home/jovyan/Thesis/Models_training/Full_Data/Full_correct_data/img_dir/train\"\n",
    "cdl_folder = r\"/home/jovyan/Thesis/Models_training/Full_Data/Full_correct_data/ann_dir/train\"\n",
    "new_images_folder = r\"/home/jovyan/Thesis/Models_training/Full_Data/Full_correct_data/combined_images/train\"\n",
    "\n",
    "# Run the function\n",
    "concatenate_and_save_images(images_folder, cdl_folder, new_images_folder)\n"
   ]
  },
  {
   "cell_type": "code",
   "execution_count": 7,
   "id": "30c9ced8",
   "metadata": {},
   "outputs": [],
   "source": [
    "\n",
    "\n",
    "# Define the folder paths\n",
    "images_folder = r\"/home/jovyan/Thesis/Models_training/Full_Data/Full_correct_data/img_dir/val\"\n",
    "cdl_folder =  r\"/home/jovyan/Thesis/Models_training/Full_Data/Full_correct_data/ann_dir/val\"\n",
    "new_images_folder = r\"/home/jovyan/Thesis/Models_training/Full_Data/Full_correct_data/combined_images/val\"\n",
    "\n",
    "# Run the function\n",
    "concatenate_and_save_images(images_folder, cdl_folder, new_images_folder)\n"
   ]
  },
  {
   "cell_type": "code",
   "execution_count": null,
   "id": "68514aed",
   "metadata": {},
   "outputs": [],
   "source": []
  }
 ],
 "metadata": {
  "kernelspec": {
   "display_name": "Python",
   "language": "python",
   "name": "python3"
  },
  "language_info": {
   "codemirror_mode": {
    "name": "ipython",
    "version": 3
   },
   "file_extension": ".py",
   "mimetype": "text/x-python",
   "name": "python",
   "nbconvert_exporter": "python",
   "pygments_lexer": "ipython3",
   "version": "3.8.10"
  }
 },
 "nbformat": 4,
 "nbformat_minor": 5
}
